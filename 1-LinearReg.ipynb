{
  "nbformat": 4,
  "nbformat_minor": 0,
  "metadata": {
    "colab": {
      "name": "1a.ipynb",
      "provenance": [],
      "collapsed_sections": []
    },
    "kernelspec": {
      "name": "python3",
      "display_name": "Python 3"
    }
  },
  "cells": [
    {
      "cell_type": "code",
      "metadata": {
        "id": "EvZStS2PZqoW"
      },
      "source": [
        "import numpy as np\r\n",
        "import matplotlib.pyplot as plt"
      ],
      "execution_count": 1,
      "outputs": []
    },
    {
      "cell_type": "code",
      "metadata": {
        "id": "e1R0OF-EZwaI"
      },
      "source": [
        "X=[1,2,3,4,5,6,7,8,9,10]\r\n",
        "Y=[5,10,15,20,25,30,35,40,45,50]"
      ],
      "execution_count": 2,
      "outputs": []
    },
    {
      "cell_type": "code",
      "metadata": {
        "id": "wqg6PkXxc0O7"
      },
      "source": [
        "X1 = np.array(X)"
      ],
      "execution_count": 3,
      "outputs": []
    },
    {
      "cell_type": "code",
      "metadata": {
        "id": "NmJySWHmZxFb"
      },
      "source": [
        "n=len(Y)"
      ],
      "execution_count": 4,
      "outputs": []
    },
    {
      "cell_type": "markdown",
      "metadata": {
        "id": "NeTWlK_AZ3ek"
      },
      "source": [
        "# **Plotting the points on a graph to figure out the relationship between the X and Y**"
      ]
    },
    {
      "cell_type": "code",
      "metadata": {
        "colab": {
          "base_uri": "https://localhost:8080/",
          "height": 282
        },
        "id": "GONb9eksZzSm",
        "outputId": "205db68a-e118-4403-f87d-2a3e72845e47"
      },
      "source": [
        "plt.scatter(X,Y)"
      ],
      "execution_count": 5,
      "outputs": [
        {
          "output_type": "execute_result",
          "data": {
            "text/plain": [
              "<matplotlib.collections.PathCollection at 0x7f07b67b4d68>"
            ]
          },
          "metadata": {
            "tags": []
          },
          "execution_count": 5
        },
        {
          "output_type": "display_data",
          "data": {
            "image/png": "[encoded data removed]",
            "text/plain": [
              "<Figure size 432x288 with 1 Axes>"
            ]
          },
          "metadata": {
            "tags": [],
            "needs_background": "light"
          }
        }
      ]
    },
    {
      "cell_type": "markdown",
      "metadata": {
        "id": "6t3ob7eqaIy0"
      },
      "source": [
        "# FInding the values using LinearRegression() Function"
      ]
    },
    {
      "cell_type": "code",
      "metadata": {
        "id": "08knqQ1jZ8Mo"
      },
      "source": [
        "from sklearn.linear_model import LinearRegression\r\n",
        "regressor = LinearRegression()"
      ],
      "execution_count": 6,
      "outputs": []
    },
    {
      "cell_type": "code",
      "metadata": {
        "id": "aCCKGFuTaR-X"
      },
      "source": [
        "X_built_in = np.array(X)\r\n",
        "X_built_in = X_built_in.reshape(-1,1)"
      ],
      "execution_count": 7,
      "outputs": []
    },
    {
      "cell_type": "code",
      "metadata": {
        "colab": {
          "base_uri": "https://localhost:8080/"
        },
        "id": "iYw1BKR3agmY",
        "outputId": "5505fb97-336e-47da-aafa-79c94ef10a50"
      },
      "source": [
        "regressor = LinearRegression()\r\n",
        "regressor.fit(X_built_in, Y)"
      ],
      "execution_count": 8,
      "outputs": [
        {
          "output_type": "execute_result",
          "data": {
            "text/plain": [
              "LinearRegression(copy_X=True, fit_intercept=True, n_jobs=None, normalize=False)"
            ]
          },
          "metadata": {
            "tags": []
          },
          "execution_count": 8
        }
      ]
    },
    {
      "cell_type": "code",
      "metadata": {
        "colab": {
          "base_uri": "https://localhost:8080/"
        },
        "id": "KKZtv2IiajC9",
        "outputId": "5a84e940-d8a5-405b-ae3d-91c602176e2b"
      },
      "source": [
        "print(regressor.coef_)"
      ],
      "execution_count": 9,
      "outputs": [
        {
          "output_type": "stream",
          "text": [
            "[5.]\n"
          ],
          "name": "stdout"
        }
      ]
    },
    {
      "cell_type": "markdown",
      "metadata": {
        "id": "QXLloC31a8LQ"
      },
      "source": [
        "# Plotting the trendline"
      ]
    },
    {
      "cell_type": "code",
      "metadata": {
        "colab": {
          "base_uri": "https://localhost:8080/",
          "height": 282
        },
        "id": "P9wI7OJxa7uD",
        "outputId": "40a2a38c-5143-4280-9994-f21324eeb8d0"
      },
      "source": [
        "plt.plot(X,Y)"
      ],
      "execution_count": 10,
      "outputs": [
        {
          "output_type": "execute_result",
          "data": {
            "text/plain": [
              "[<matplotlib.lines.Line2D at 0x7f07a96feb00>]"
            ]
          },
          "metadata": {
            "tags": []
          },
          "execution_count": 10
        },
        {
          "output_type": "display_data",
          "data": {
            "image/png": "[encoded data removed]",
            "text/plain": [
              "<Figure size 432x288 with 1 Axes>"
            ]
          },
          "metadata": {
            "tags": [],
            "needs_background": "light"
          }
        }
      ]
    },
    {
      "cell_type": "markdown",
      "metadata": {
        "id": "0pUCrkjUbQDe"
      },
      "source": [
        "# Finding the values for given unknown X = [15,20,30]"
      ]
    },
    {
      "cell_type": "code",
      "metadata": {
        "id": "iB9rfa1famFh"
      },
      "source": [
        "X_unkwn = np.array([15,20,30])\r\n",
        "X_unkwn = X_unkwn.reshape(-1,1)\r\n",
        "y_train = regressor.predict(X_built_in)\r\n",
        "y_unkwn_a = regressor.predict(X_unkwn)"
      ],
      "execution_count": 11,
      "outputs": []
    },
    {
      "cell_type": "code",
      "metadata": {
        "colab": {
          "base_uri": "https://localhost:8080/"
        },
        "id": "6GFPoHdEbJfz",
        "outputId": "217b8453-8309-4b09-baa3-cd21057760c8"
      },
      "source": [
        "y_unkwn_a"
      ],
      "execution_count": 12,
      "outputs": [
        {
          "output_type": "execute_result",
          "data": {
            "text/plain": [
              "array([ 75., 100., 150.])"
            ]
          },
          "metadata": {
            "tags": []
          },
          "execution_count": 12
        }
      ]
    },
    {
      "cell_type": "code",
      "metadata": {
        "id": "BcQ-N3AMbT2n"
      },
      "source": [
        ""
      ],
      "execution_count": 12,
      "outputs": []
    },
    {
      "cell_type": "markdown",
      "metadata": {
        "id": "42o6FzRRbZej"
      },
      "source": [
        "# Without using Inbuit Function\r\n",
        "\r\n"
      ]
    },
    {
      "cell_type": "markdown",
      "metadata": {
        "id": "L6FwUbeGbspA"
      },
      "source": [
        "#Finding the weights (including bias)"
      ]
    },
    {
      "cell_type": "code",
      "metadata": {
        "id": "t_u_KjT6bZGG"
      },
      "source": [
        "for i in range(len(X)):\r\n",
        "  X[i] = [X[i],1]\r\n",
        "X = np.array(X)\r\n",
        "Y = np.array(Y)\r\n",
        "w = np.linalg.solve((X.T.dot(X)),X.T.dot(Y))\r\n"
      ],
      "execution_count": 13,
      "outputs": []
    },
    {
      "cell_type": "markdown",
      "metadata": {
        "id": "0CZauKHWdq3D"
      },
      "source": [
        "# Plotting the trendline"
      ]
    },
    {
      "cell_type": "code",
      "metadata": {
        "colab": {
          "base_uri": "https://localhost:8080/",
          "height": 282
        },
        "id": "_e96u8ykdxv_",
        "outputId": "c4126754-ed7d-44d8-bd1b-83238968b042"
      },
      "source": [
        "plt.plot(X1,Y)"
      ],
      "execution_count": 14,
      "outputs": [
        {
          "output_type": "execute_result",
          "data": {
            "text/plain": [
              "[<matplotlib.lines.Line2D at 0x7f07a9670550>]"
            ]
          },
          "metadata": {
            "tags": []
          },
          "execution_count": 14
        },
        {
          "output_type": "display_data",
          "data": {
            "image/png": "[encoded data removed]",
            "text/plain": [
              "<Figure size 432x288 with 1 Axes>"
            ]
          },
          "metadata": {
            "tags": [],
            "needs_background": "light"
          }
        }
      ]
    },
    {
      "cell_type": "code",
      "metadata": {
        "colab": {
          "base_uri": "https://localhost:8080/"
        },
        "id": "ul0UVt8obwao",
        "outputId": "d58b2dd9-4927-4467-b15a-776cd2dadc3f"
      },
      "source": [
        "w"
      ],
      "execution_count": 15,
      "outputs": [
        {
          "output_type": "execute_result",
          "data": {
            "text/plain": [
              "array([5., 0.])"
            ]
          },
          "metadata": {
            "tags": []
          },
          "execution_count": 15
        }
      ]
    },
    {
      "cell_type": "markdown",
      "metadata": {
        "id": "IE3oz8gEcHgz"
      },
      "source": [
        "# Verifying the Observed Outputs for the trained X\r\n",
        "![MSE.jpg](data:image/jpeg;base64,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)"
      ]
    },
    {
      "cell_type": "code",
      "metadata": {
        "id": "9t1ewONhb9pY"
      },
      "source": [
        "y_hat = w[0]*X1+w[1]\r\n",
        "#print(X1,y_hat)\r\n",
        "y_diff = Y - y_hat\r\n",
        "y_diff_sum = sum(y_diff)\r\n",
        "y_diff_sum_sqr = (y_diff_sum)**2\r\n",
        "error = (1/n)*(y_diff_sum_sqr)"
      ],
      "execution_count": 16,
      "outputs": []
    },
    {
      "cell_type": "code",
      "metadata": {
        "colab": {
          "base_uri": "https://localhost:8080/"
        },
        "id": "gehy--R5cQVS",
        "outputId": "d6b9b3f9-4513-4765-cda9-e9a1fa967be5"
      },
      "source": [
        "error"
      ],
      "execution_count": 17,
      "outputs": [
        {
          "output_type": "execute_result",
          "data": {
            "text/plain": [
              "0.0"
            ]
          },
          "metadata": {
            "tags": []
          },
          "execution_count": 17
        }
      ]
    },
    {
      "cell_type": "markdown",
      "metadata": {
        "id": "cAcBjTPmdWm6"
      },
      "source": [
        "#  Finding the values for given unknown X = [15,20,30]\r\n"
      ]
    },
    {
      "cell_type": "code",
      "metadata": {
        "id": "xObGUEg7dUBV"
      },
      "source": [
        "X_unkwn = np.array([15,20,30])\r\n",
        "y_unkwn = w[0]*X_unkwn + w[1]"
      ],
      "execution_count": 18,
      "outputs": []
    },
    {
      "cell_type": "code",
      "metadata": {
        "colab": {
          "base_uri": "https://localhost:8080/"
        },
        "id": "ZrhrvJrWdfz7",
        "outputId": "45b51c81-4ed2-4376-b427-f16475c69e5f"
      },
      "source": [
        "y_unkwn"
      ],
      "execution_count": 19,
      "outputs": [
        {
          "output_type": "execute_result",
          "data": {
            "text/plain": [
              "array([ 75., 100., 150.])"
            ]
          },
          "metadata": {
            "tags": []
          },
          "execution_count": 19
        }
      ]
    },
    {
      "cell_type": "code",
      "metadata": {
        "id": "VOcZszk8dia6"
      },
      "source": [
        ""
      ],
      "execution_count": 19,
      "outputs": []
    }
  ]
}